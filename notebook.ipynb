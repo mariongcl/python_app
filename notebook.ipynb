{
 "cells": [
  {
   "cell_type": "code",
   "execution_count": 3,
   "id": "f738b417",
   "metadata": {},
   "outputs": [],
   "source": [
    "import tkinter as tk\n",
    "\n",
    "# Créer la fenêtre principale\n",
    "root = tk.Tk()\n",
    "\n",
    "# Ajouter un label\n",
    "label = tk.Label(root, text=\"Bonjour, Tkinter dans Jupyter!\")\n",
    "label.pack()\n",
    "\n",
    "# Lancer la boucle principale\n",
    "root.mainloop()\n"
   ]
  },
  {
   "cell_type": "markdown",
   "id": "d777fe87",
   "metadata": {},
   "source": [
    "bonjour à toutes et à tous"
   ]
  },
  {
   "cell_type": "markdown",
   "id": "b1b63374",
   "metadata": {},
   "source": []
  },
  {
   "cell_type": "code",
   "execution_count": null,
   "id": "50a5659f",
   "metadata": {},
   "outputs": [],
   "source": []
  }
 ],
 "metadata": {
  "kernelspec": {
   "display_name": "Python 3",
   "language": "python",
   "name": "python3"
  },
  "language_info": {
   "codemirror_mode": {
    "name": "ipython",
    "version": 3
   },
   "file_extension": ".py",
   "mimetype": "text/x-python",
   "name": "python",
   "nbconvert_exporter": "python",
   "pygments_lexer": "ipython3",
   "version": "3.13.3"
  }
 },
 "nbformat": 4,
 "nbformat_minor": 5
}
